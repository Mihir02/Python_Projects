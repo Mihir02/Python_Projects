{
 "cells": [
  {
   "cell_type": "code",
   "execution_count": 4,
   "metadata": {},
   "outputs": [
    {
     "name": "stdout",
     "output_type": "stream",
     "text": [
      "Requirement already satisfied: flask in c:\\users\\varah\\appdata\\local\\programs\\python\\python39\\lib\\site-packages (2.0.2)Note: you may need to restart the kernel to use updated packages.\n"
     ]
    },
    {
     "name": "stderr",
     "output_type": "stream",
     "text": [
      "WARNING: You are using pip version 20.2.3; however, version 21.2.4 is available.\n",
      "You should consider upgrading via the 'C:\\Users\\varah\\AppData\\Local\\Programs\\Python\\Python39\\python.exe -m pip install --upgrade pip' command.\n"
     ]
    },
    {
     "name": "stdout",
     "output_type": "stream",
     "text": [
      "\n",
      "Requirement already satisfied: itsdangerous>=2.0 in c:\\users\\varah\\appdata\\local\\programs\\python\\python39\\lib\\site-packages (from flask) (2.0.1)\n",
      "Requirement already satisfied: Werkzeug>=2.0 in c:\\users\\varah\\appdata\\local\\programs\\python\\python39\\lib\\site-packages (from flask) (2.0.2)\n",
      "Requirement already satisfied: click>=7.1.2 in c:\\users\\varah\\appdata\\local\\programs\\python\\python39\\lib\\site-packages (from flask) (8.0.3)\n",
      "Requirement already satisfied: Jinja2>=3.0 in c:\\users\\varah\\appdata\\local\\programs\\python\\python39\\lib\\site-packages (from flask) (3.0.1)\n",
      "Requirement already satisfied: colorama; platform_system == \"Windows\" in c:\\users\\varah\\appdata\\local\\programs\\python\\python39\\lib\\site-packages (from click>=7.1.2->flask) (0.4.4)\n",
      "Requirement already satisfied: MarkupSafe>=2.0 in c:\\users\\varah\\appdata\\local\\programs\\python\\python39\\lib\\site-packages (from Jinja2>=3.0->flask) (2.0.1)\n"
     ]
    }
   ],
   "source": [
    "pip install flask"
   ]
  },
  {
   "cell_type": "code",
   "execution_count": 5,
   "metadata": {},
   "outputs": [
    {
     "name": "stdout",
     "output_type": "stream",
     "text": [
      " * Serving Flask app '__main__' (lazy loading)\n",
      " * Environment: production\n",
      "\u001b[31m   WARNING: This is a development server. Do not use it in a production deployment.\u001b[0m\n",
      "\u001b[2m   Use a production WSGI server instead.\u001b[0m\n",
      " * Debug mode: on\n"
     ]
    },
    {
     "name": "stderr",
     "output_type": "stream",
     "text": [
      " * Running on http://127.0.0.1:5000/ (Press CTRL+C to quit)\n",
      "127.0.0.1 - - [19/Oct/2021 12:25:17] \"GET / HTTP/1.1\" 200 -\n",
      "127.0.0.1 - - [19/Oct/2021 12:25:17] \"GET /static/css/main.css HTTP/1.1\" 404 -\n",
      "127.0.0.1 - - [19/Oct/2021 12:25:23] \"GET / HTTP/1.1\" 200 -\n",
      "127.0.0.1 - - [19/Oct/2021 12:25:23] \"GET /static/css/main.css HTTP/1.1\" 404 -\n",
      "127.0.0.1 - - [19/Oct/2021 12:25:24] \"GET /about/ HTTP/1.1\" 200 -\n",
      "127.0.0.1 - - [19/Oct/2021 12:25:25] \"GET /static/css/main.css HTTP/1.1\" 404 -\n",
      "127.0.0.1 - - [19/Oct/2021 12:25:57] \"GET /about/ HTTP/1.1\" 200 -\n",
      "127.0.0.1 - - [19/Oct/2021 12:25:58] \"GET /static/css/main.css HTTP/1.1\" 404 -\n",
      "127.0.0.1 - - [19/Oct/2021 12:25:59] \"GET / HTTP/1.1\" 200 -\n",
      "127.0.0.1 - - [19/Oct/2021 12:25:59] \"GET /static/css/main.css HTTP/1.1\" 404 -\n",
      "127.0.0.1 - - [19/Oct/2021 12:26:02] \"GET /about/ HTTP/1.1\" 200 -\n",
      "127.0.0.1 - - [19/Oct/2021 12:26:02] \"GET /static/css/main.css HTTP/1.1\" 404 -\n",
      "127.0.0.1 - - [19/Oct/2021 12:26:28] \"GET / HTTP/1.1\" 200 -\n",
      "127.0.0.1 - - [19/Oct/2021 12:26:28] \"GET /static/css/main.css HTTP/1.1\" 404 -\n"
     ]
    }
   ],
   "source": [
    "from flask import Flask , render_template\n",
    "\n",
    "\n",
    "app=Flask(__name__)\n",
    "\n",
    "@app.route('/')\n",
    "def home():\n",
    "    return render_template(\"home.html\")\n",
    "\n",
    "@app.route('/about/')\n",
    "def about():\n",
    "    return render_template(\"about.html\")\n",
    "\n",
    "if __name__==\"__main__\":\n",
    "    app.run(debug=True, use_reloader=False)"
   ]
  }
 ],
 "metadata": {
  "interpreter": {
   "hash": "1f87b13d6928e26a3bbfcad560eab380c0bed09be21d56f255bc07cd990112d1"
  },
  "kernelspec": {
   "display_name": "Python 3.9.4 64-bit",
   "name": "python3"
  },
  "language_info": {
   "codemirror_mode": {
    "name": "ipython",
    "version": 3
   },
   "file_extension": ".py",
   "mimetype": "text/x-python",
   "name": "python",
   "nbconvert_exporter": "python",
   "pygments_lexer": "ipython3",
   "version": "3.9.4"
  },
  "orig_nbformat": 4
 },
 "nbformat": 4,
 "nbformat_minor": 2
}
