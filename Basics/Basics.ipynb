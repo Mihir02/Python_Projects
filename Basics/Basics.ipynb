{
    "cells": [
        {
            "cell_type": "code",
            "execution_count": null,
            "source": [
                "temp = [221, 234, 340, 230]\r\n",
                "\r\n",
                "new_temp = []\r\n",
                "for t in temp:\r\n",
                "    new_temp.append(t / 10)\r\n",
                "\r\n",
                "print(new_temp)"
            ],
            "outputs": [],
            "metadata": {}
        },
        {
            "cell_type": "markdown",
            "source": [
                "But to do this in just one line we can use \r\n",
                "\r\n",
                "**List comprehensions**\r\n",
                "\r\n",
                "It's a way to build lists without having to create a for loop and a standard for loop because we actually have an inline for loop in here.\r\n",
                "\r\n",
                "We have an iteration and in each iteration we store the value in the list"
            ],
            "metadata": {}
        },
        {
            "cell_type": "code",
            "execution_count": null,
            "source": [
                "temps = [221, 234, 340, 230]\r\n",
                "\r\n",
                "new_temps = [t / 10 for t in temps]  #This is list comprehension\r\n",
                "\r\n",
                "print(new_temps)"
            ],
            "outputs": [],
            "metadata": {}
        },
        {
            "cell_type": "markdown",
            "source": [
                "List Comprehension with **if conditional**"
            ],
            "metadata": {}
        },
        {
            "cell_type": "code",
            "execution_count": null,
            "source": [
                "temps = [221, 234, 340, -999]\r\n",
                "\r\n",
                "new_temps = [t / 10 for t in temps if t != -999]\r\n",
                "\r\n",
                "print(new_temps)"
            ],
            "outputs": [],
            "metadata": {}
        },
        {
            "cell_type": "markdown",
            "source": [
                "List comprehension with **if else conditional**\r\n",
                "\r\n",
                "In this case the order will be a bit different as the **for** will be now **after** the conditional\r\n",
                "\r\n",
                "The below comprehension says give me t / 10 if the condition is true else gimme 0 for t in temps"
            ],
            "metadata": {}
        },
        {
            "cell_type": "code",
            "execution_count": null,
            "source": [
                "temps = [221, 234, 340, -999]\r\n",
                "\r\n",
                "new_temps = [t / 10 if t != -999 else 0  for t in temps]\r\n",
                "\r\n",
                "print(new_temps)"
            ],
            "outputs": [],
            "metadata": {}
        },
        {
            "cell_type": "markdown",
            "source": [
                "Also **this** thing that you're thinking won't work. Don't believe me, see it for yourself.\r\n",
                "\r\n",
                "I bet it'll say \"invalid syntax\""
            ],
            "metadata": {}
        },
        {
            "cell_type": "code",
            "execution_count": null,
            "source": [
                "temps = [221, 234, 340, -999]\r\n",
                "\r\n",
                "new_temps = [t / 10 if t != -999 for t in temps]\r\n",
                "\r\n",
                "print(new_temps)"
            ],
            "outputs": [],
            "metadata": {}
        },
        {
            "cell_type": "markdown",
            "source": [
                "**FUNCTIONS**\r\n",
                "\r\n",
                "Functions with indefinite number of arguments"
            ],
            "metadata": {}
        },
        {
            "cell_type": "code",
            "execution_count": null,
            "source": [
                "def asManyArgsAsYouWant(*args):\r\n",
                "    return args\r\n",
                "\r\n",
                "asManyArgsAsYouWant(1, 2, \"Something\", \"Idk\")"
            ],
            "outputs": [],
            "metadata": {}
        },
        {
            "cell_type": "markdown",
            "source": [
                "So the above function is returning a **Tuple** of arbitrary number of elements\r\n",
                "\r\n",
                "Now the below function will take as input indefinite number of strings and return a sorted list of the string in uppercase"
            ],
            "metadata": {}
        },
        {
            "cell_type": "code",
            "execution_count": null,
            "source": [
                "def func(*args):\r\n",
                "    return sorted([s.upper() for s in args])"
            ],
            "outputs": [],
            "metadata": {}
        },
        {
            "cell_type": "markdown",
            "source": [
                "**Functions** with indefinite number of **keyword** parameters\r\n",
                "\r\n",
                "The keyword arguments will have to be declared by using 2 astrisks which will save all the arguments in a **dictonary**"
            ],
            "metadata": {}
        },
        {
            "cell_type": "code",
            "execution_count": null,
            "source": [
                "def mean(**kwargs):\r\n",
                "    return kwargs\r\n",
                "\r\n",
                "print(mean(a=1, b=3, me = \"Sombre\"))"
            ],
            "outputs": [],
            "metadata": {}
        },
        {
            "cell_type": "markdown",
            "source": [
                "**File Processing**\r\n",
                "\r\n",
                "So when we access a file it basically creates and loads an **object** in the RAM. We'll do the same thing in python. We'll store the file object in a variable.\r\n",
                "\r\n",
                "**open()** function is what creates the file object. It takes the path to the file as the argument.\r\n",
                "\r\n",
                "**file.read()** method can be used to read the contents of the file."
            ],
            "metadata": {}
        },
        {
            "cell_type": "code",
            "execution_count": null,
            "source": [
                "myfile = open(\"someTextFile.txt\")\r\n",
                "print(myfile.read())"
            ],
            "outputs": [],
            "metadata": {}
        },
        {
            "cell_type": "markdown",
            "source": [
                "The **CURSOR**   \r\n",
                "\r\n",
                "Yeah. That idiot, blinking vertical line. When the file is first loaded, the cursor is at the begning but once we read it the cursor is at the end so as a result this will happen. Make sure that you've run the previous cell already."
            ],
            "metadata": {}
        },
        {
            "cell_type": "code",
            "execution_count": null,
            "source": [
                "print(myfile.read())"
            ],
            "outputs": [],
            "metadata": {}
        },
        {
            "cell_type": "markdown",
            "source": [
                "It prints nothing. \r\n",
                "So if you want to access that data multiple times just store it in some variable."
            ],
            "metadata": {}
        },
        {
            "cell_type": "code",
            "execution_count": null,
            "source": [
                "newFileCozOfTheDamnCursor = open(\"someTextFile.txt\")\r\n",
                "var = newFileCozOfTheDamnCursor.read()\r\n",
                "print(var)\r\n",
                "print(var)\r\n",
                "print(\"\\nSee now we can access it as many times as we want\")"
            ],
            "outputs": [],
            "metadata": {}
        },
        {
            "cell_type": "code",
            "execution_count": null,
            "source": [
                "print(\"Now the var is of type \",type(var))"
            ],
            "outputs": [],
            "metadata": {}
        },
        {
            "cell_type": "markdown",
            "source": [
                "When we create a file object a file object is created in the RAM and will remain there untill we close it. \r\n",
                "\r\n",
                "So it is always a good idea to **close the file** once it haas served its purpose"
            ],
            "metadata": {}
        },
        {
            "cell_type": "code",
            "execution_count": null,
            "source": [
                "myfile.close()\r\n",
                "newFileCozOfTheDamnCursor.close()"
            ],
            "outputs": [],
            "metadata": {}
        },
        {
            "cell_type": "markdown",
            "source": [
                "But there is a **better way** to do all this.\r\n",
                "\r\n",
                "What we can do is to use the **with** context manager\r\n",
                "\r\n",
                "**Context Manager** facilitates a mechanism for the automatic setup and teardown of resources (saving us from file descriptor leakage)\r\n"
            ],
            "metadata": {}
        },
        {
            "cell_type": "code",
            "execution_count": null,
            "source": [
                "with open(\"ContextManager.txt\") as myfile:\r\n",
                "    content = myfile.read()\r\n",
                "\r\n",
                "print(content)"
            ],
            "outputs": [],
            "metadata": {}
        },
        {
            "cell_type": "markdown",
            "source": [
                "If the file was inside an othyer directory then we cann't just name the file to open it. It won't be able to find the file."
            ],
            "metadata": {}
        },
        {
            "cell_type": "code",
            "execution_count": null,
            "source": [
                "with open(\"Test_folder\\AnothertxtFile.txt\") as file:\r\n",
                "    contento_2 = file.read()\r\n",
                "\r\n",
                "print(contento_2)"
            ],
            "outputs": [],
            "metadata": {}
        },
        {
            "cell_type": "markdown",
            "source": [
                "Writing text **to** the file using **\"w\"**\r\n",
                "If the file already exists then python will override the file with the stuff you now write to it."
            ],
            "metadata": {}
        },
        {
            "cell_type": "code",
            "execution_count": null,
            "source": [
                "with open(\"Test_folder\\FileForEditing.txt\", \"w\") as myfile:\r\n",
                "    myfile.write(\"Edit 2: I'm not editng anything just writing to it\")\r\n",
                "    myfile.write(\"\\nIf you don't explicitly change the line while writing then python will just go on writng and\\nthis will happen\")\r\n",
                "    myfile.write(\"This I wrote by calling another write\")"
            ],
            "outputs": [],
            "metadata": {}
        },
        {
            "cell_type": "markdown",
            "source": [
                "Mode **\"x\"** will ensure that you don't write to an already existing file. It'll only write if the given file does not exist.\r\n",
                "\r\n",
                "**Appending** an existing file in python is done using **\"a\"** mode"
            ],
            "metadata": {}
        },
        {
            "cell_type": "code",
            "execution_count": null,
            "source": [
                "with open(\"Test_folder\\FileForEditing.txt\", \"a\") as my:\r\n",
                "    my.write(\"\\nThis is edit 3 and the new line that you are reading is right now was appended to the already existing file in this edit\")"
            ],
            "outputs": [],
            "metadata": {}
        },
        {
            "cell_type": "markdown",
            "source": [
                "But we **cannot** read this file \r\n",
                "\r\n",
                "We need to go into **\"a+\"** mode for apending and reading mode but beware of the idiot cursor.\r\n",
                "\r\n",
                "We can use **File.seek(index)** to move the cursor to the prescribed index"
            ],
            "metadata": {}
        },
        {
            "cell_type": "code",
            "execution_count": null,
            "source": [
                "with open(\"Test_folder\\FileForEditing.txt\", \"a+\") as myFile:\r\n",
                "    myFile.write(\"\\nEdit number 3 and now after the appending is done the cursor is here ->\")\r\n",
                "    print(\"We use the file.seek(index) method to move the cursor to index 0 so that we can read the whole file\\n\")\r\n",
                "    myFile.seek(0)\r\n",
                "    content = myFile.read()\r\n",
                "\r\n",
                "print(content)"
            ],
            "outputs": [],
            "metadata": {}
        },
        {
            "cell_type": "markdown",
            "source": [
                "See it worked!"
            ],
            "metadata": {}
        },
        {
            "cell_type": "code",
            "execution_count": 28,
            "source": [
                "with open(\"data.txt\", \"a+\") as file:\r\n",
                "    file.seek(0)\r\n",
                "    data = file.read()\r\n",
                "    print(data)\r\n",
                "    file.write((\"\\n\"+data) * 2)"
            ],
            "outputs": [
                {
                    "output_type": "stream",
                    "name": "stdout",
                    "text": [
                        "1.3, 1.5\n",
                        "2.3, 2.7\n"
                    ]
                }
            ],
            "metadata": {}
        },
        {
            "cell_type": "code",
            "execution_count": null,
            "source": [],
            "outputs": [],
            "metadata": {}
        }
    ],
    "metadata": {
        "orig_nbformat": 4,
        "language_info": {
            "name": "python",
            "version": "3.9.5",
            "mimetype": "text/x-python",
            "codemirror_mode": {
                "name": "ipython",
                "version": 3
            },
            "pygments_lexer": "ipython3",
            "nbconvert_exporter": "python",
            "file_extension": ".py"
        },
        "kernelspec": {
            "name": "python3",
            "display_name": "Python 3.9.5 64-bit"
        },
        "interpreter": {
            "hash": "223c27acd2f0d30991757af3704a37d958d615953cddcb1d78c6a06176f530c7"
        }
    },
    "nbformat": 4,
    "nbformat_minor": 2
}