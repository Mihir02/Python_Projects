{
    "cells": [
        {
            "cell_type": "code",
            "execution_count": 6,
            "source": [
                "temp = [221, 234, 340, 230]\r\n",
                "\r\n",
                "new_temp = []\r\n",
                "for t in temp:\r\n",
                "    new_temp.append(t / 10)\r\n",
                "\r\n",
                "print(new_temp)"
            ],
            "outputs": [
                {
                    "output_type": "stream",
                    "name": "stdout",
                    "text": [
                        "[22.1, 23.4, 34.0, 23.0]\n"
                    ]
                }
            ],
            "metadata": {}
        },
        {
            "cell_type": "markdown",
            "source": [
                "But to do this in just one line we can use \r\n",
                "\r\n",
                "**List comprehensions**\r\n",
                "\r\n",
                "It's a way to build lists without having to create a for loop and a standard for loop because we actually have an inline for loop in here.\r\n",
                "\r\n",
                "We have an iteration and in each iteration we store the value in the list"
            ],
            "metadata": {}
        },
        {
            "cell_type": "code",
            "execution_count": 7,
            "source": [
                "temps = [221, 234, 340, 230]\r\n",
                "\r\n",
                "new_temps = [t / 10 for t in temps]  #This is list comprehension\r\n",
                "\r\n",
                "print(new_temps)"
            ],
            "outputs": [
                {
                    "output_type": "stream",
                    "name": "stdout",
                    "text": [
                        "[22.1, 23.4, 34.0, 23.0]\n"
                    ]
                }
            ],
            "metadata": {}
        },
        {
            "cell_type": "markdown",
            "source": [
                "List Comprehension with **if conditional**"
            ],
            "metadata": {}
        },
        {
            "cell_type": "code",
            "execution_count": 8,
            "source": [
                "temps = [221, 234, 340, -999]\r\n",
                "\r\n",
                "new_temps = [t / 10 for t in temps if t != -999]\r\n",
                "\r\n",
                "print(new_temps)"
            ],
            "outputs": [
                {
                    "output_type": "stream",
                    "name": "stdout",
                    "text": [
                        "[22.1, 23.4, 34.0]\n"
                    ]
                }
            ],
            "metadata": {}
        },
        {
            "cell_type": "markdown",
            "source": [
                "List comprehension with **if else conditional**\r\n",
                "\r\n",
                "In this case the order will be a bit different as the **for** will be now **after** the conditional\r\n",
                "\r\n",
                "The below comprehension says give me t / 10 if the condition is true else gimme 0 for t in temps"
            ],
            "metadata": {}
        },
        {
            "cell_type": "code",
            "execution_count": 9,
            "source": [
                "temps = [221, 234, 340, -999]\r\n",
                "\r\n",
                "new_temps = [t / 10 if t != -999 else 0  for t in temps]\r\n",
                "\r\n",
                "print(new_temps)"
            ],
            "outputs": [
                {
                    "output_type": "stream",
                    "name": "stdout",
                    "text": [
                        "[22.1, 23.4, 34.0, 0]\n"
                    ]
                }
            ],
            "metadata": {}
        },
        {
            "cell_type": "markdown",
            "source": [
                "Also **this** thing that you're thinking won't work. Don't believe me, see it for yourself.\r\n",
                "\r\n",
                "I bet it'll say \"invalid syntax\""
            ],
            "metadata": {}
        },
        {
            "cell_type": "code",
            "execution_count": 10,
            "source": [
                "temps = [221, 234, 340, -999]\r\n",
                "\r\n",
                "new_temps = [t / 10 if t != -999 for t in temps]\r\n",
                "\r\n",
                "print(new_temps)"
            ],
            "outputs": [
                {
                    "output_type": "error",
                    "ename": "SyntaxError",
                    "evalue": "invalid syntax (<ipython-input-10-f9ee2b762569>, line 3)",
                    "traceback": [
                        "\u001b[1;36m  File \u001b[1;32m\"<ipython-input-10-f9ee2b762569>\"\u001b[1;36m, line \u001b[1;32m3\u001b[0m\n\u001b[1;33m    new_temps = [t / 10 if t != -999 for t in temps]\u001b[0m\n\u001b[1;37m                                     ^\u001b[0m\n\u001b[1;31mSyntaxError\u001b[0m\u001b[1;31m:\u001b[0m invalid syntax\n"
                    ]
                }
            ],
            "metadata": {}
        },
        {
            "cell_type": "markdown",
            "source": [
                "**FUNCTIONS**\r\n",
                "\r\n",
                "Functions with indefinite number of arguments"
            ],
            "metadata": {}
        },
        {
            "cell_type": "code",
            "execution_count": 11,
            "source": [
                "def asManyArgsAsYouWant(*args):\r\n",
                "    return args\r\n",
                "\r\n",
                "asManyArgsAsYouWant(1, 2, \"Something\", \"Idk\")"
            ],
            "outputs": [
                {
                    "output_type": "execute_result",
                    "data": {
                        "text/plain": [
                            "(1, 2, 'Something', 'Idk')"
                        ]
                    },
                    "metadata": {},
                    "execution_count": 11
                }
            ],
            "metadata": {}
        },
        {
            "cell_type": "markdown",
            "source": [
                "So the above function is returning a **Tuple** of arbitrary number of elements\r\n",
                "\r\n",
                "Now the below function will take as input indefinite number of strings and return a sorted list of the string in uppercase"
            ],
            "metadata": {}
        },
        {
            "cell_type": "code",
            "execution_count": 12,
            "source": [
                "def func(*args):\r\n",
                "    return sorted([s.upper() for s in args])"
            ],
            "outputs": [],
            "metadata": {}
        },
        {
            "cell_type": "markdown",
            "source": [
                "**Functions** with indefinite number of **keyword** parameters\r\n",
                "\r\n",
                "The keyword arguments will have to be declared by using 2 astrisks which will save all the arguments in a **dictonary**"
            ],
            "metadata": {}
        },
        {
            "cell_type": "code",
            "execution_count": 13,
            "source": [
                "def mean(**kwargs):\r\n",
                "    return kwargs\r\n",
                "\r\n",
                "print(mean(a=1, b=3, me = \"Sombre\"))"
            ],
            "outputs": [
                {
                    "output_type": "stream",
                    "name": "stdout",
                    "text": [
                        "{'a': 1, 'b': 3, 'me': 'Sombre'}\n"
                    ]
                }
            ],
            "metadata": {}
        },
        {
            "cell_type": "markdown",
            "source": [
                "**File Processing**"
            ],
            "metadata": {}
        },
        {
            "cell_type": "markdown",
            "source": [
                "So when we access a file it basically creates and loads an **object** in the RAM. We'll do the same thing in python. We'll store the file object in a variable.\r\n",
                "\r\n",
                "**open()** function is what creates the file object. It takes the path to the file as the argument.\r\n",
                "\r\n",
                "**file.read()** method can be used to read the contents of the file."
            ],
            "metadata": {}
        },
        {
            "cell_type": "code",
            "execution_count": 14,
            "source": [
                "myfile = open(\"someTextFile.txt\")\r\n",
                "print(myfile.read())"
            ],
            "outputs": [
                {
                    "output_type": "stream",
                    "name": "stdout",
                    "text": [
                        "Line 1\n",
                        "Line 2\n",
                        "Line 3\n",
                        "Line 4\n",
                        "Line 5\n",
                        "Line 6\n",
                        "Line 7\n",
                        "Well I'm bored now so I'll write what I'm writing now and then change the Line\n",
                        "Well now that I've changed the line, now I'll do the same again, i.e., write the stuff that I'm thinkig and then change the line\n",
                        "And now that I've wasted 2 lines we're on line number 10\n"
                    ]
                }
            ],
            "metadata": {}
        },
        {
            "cell_type": "markdown",
            "source": [
                "The **CURSOR**   \r\n",
                "\r\n",
                "Yeah. That idiot, blinking vertical line. When the file is first loaded, the cursor is at the begning but once we read it the cursor is at the end so as a result this will happen. Make sure that you've run the previous cell already."
            ],
            "metadata": {}
        },
        {
            "cell_type": "code",
            "execution_count": 15,
            "source": [
                "print(myfile.read())"
            ],
            "outputs": [
                {
                    "output_type": "stream",
                    "name": "stdout",
                    "text": [
                        "\n"
                    ]
                }
            ],
            "metadata": {}
        },
        {
            "cell_type": "markdown",
            "source": [
                "It prints nothing. \r\n",
                "So if you want to access that data multiple times just store it in some variable."
            ],
            "metadata": {}
        },
        {
            "cell_type": "code",
            "execution_count": 16,
            "source": [
                "newFileCozOfTheDamnCursor = open(\"someTextFile.txt\")\r\n",
                "var = newFileCozOfTheDamnCursor.read()\r\n",
                "print(var)\r\n",
                "print(var)\r\n",
                "print(\"\\nSee now we can access it as many times as we want\")"
            ],
            "outputs": [
                {
                    "output_type": "stream",
                    "name": "stdout",
                    "text": [
                        "Line 1\n",
                        "Line 2\n",
                        "Line 3\n",
                        "Line 4\n",
                        "Line 5\n",
                        "Line 6\n",
                        "Line 7\n",
                        "Well I'm bored now so I'll write what I'm writing now and then change the Line\n",
                        "Well now that I've changed the line, now I'll do the same again, i.e., write the stuff that I'm thinkig and then change the line\n",
                        "And now that I've wasted 2 lines we're on line number 10\n",
                        "Line 1\n",
                        "Line 2\n",
                        "Line 3\n",
                        "Line 4\n",
                        "Line 5\n",
                        "Line 6\n",
                        "Line 7\n",
                        "Well I'm bored now so I'll write what I'm writing now and then change the Line\n",
                        "Well now that I've changed the line, now I'll do the same again, i.e., write the stuff that I'm thinkig and then change the line\n",
                        "And now that I've wasted 2 lines we're on line number 10\n",
                        "\n",
                        "See now we can access it as many times as we want\n"
                    ]
                }
            ],
            "metadata": {}
        },
        {
            "cell_type": "code",
            "execution_count": 17,
            "source": [
                "print(\"Now the var is of type \",type(var))"
            ],
            "outputs": [
                {
                    "output_type": "stream",
                    "name": "stdout",
                    "text": [
                        "Now the var is of type  <class 'str'>\n"
                    ]
                }
            ],
            "metadata": {}
        },
        {
            "cell_type": "markdown",
            "source": [
                "When we create a file object a file object is created in the RAM and will remain there untill we close it. \r\n",
                "\r\n",
                "So it is always a good idea to **close the file** once it haas served its purpose"
            ],
            "metadata": {}
        },
        {
            "cell_type": "code",
            "execution_count": 18,
            "source": [
                "myfile.close()\r\n",
                "newFileCozOfTheDamnCursor.close()"
            ],
            "outputs": [],
            "metadata": {}
        },
        {
            "cell_type": "markdown",
            "source": [
                "But there is a **better way** to do all this.\r\n",
                "\r\n",
                "What we can do is to use the **with** context manager\r\n",
                "\r\n",
                "**Context Manager** facilitates a mechanism for the automatic setup and teardown of resources (saving us from file descriptor leakage)\r\n"
            ],
            "metadata": {}
        },
        {
            "cell_type": "code",
            "execution_count": 19,
            "source": [
                "with open(\"ContextManager.txt\") as myfile:\r\n",
                "    content = myfile.read()\r\n",
                "\r\n",
                "print(content)"
            ],
            "outputs": [
                {
                    "output_type": "stream",
                    "name": "stdout",
                    "text": [
                        "Well the context manager makes sure that the resource opened in its contex \n",
                        "will close once we exit its block. Thus ensuring that no useless file is left\n",
                        "opened in the memmory.\n"
                    ]
                }
            ],
            "metadata": {}
        },
        {
            "cell_type": "markdown",
            "source": [
                "If the file was inside an othyer directory then we cann't just name the file to open it. It won't be able to find the file."
            ],
            "metadata": {}
        },
        {
            "cell_type": "code",
            "execution_count": 20,
            "source": [
                "with open(\"Test_folder\\AnothertxtFile.txt\") as file:\r\n",
                "    contento_2 = file.read()\r\n",
                "\r\n",
                "print(contento_2)"
            ],
            "outputs": [
                {
                    "output_type": "stream",
                    "name": "stdout",
                    "text": [
                        "This is just another text file, initially created to test file handeling \n",
                        "when the file is an another directory.\n"
                    ]
                }
            ],
            "metadata": {}
        },
        {
            "cell_type": "markdown",
            "source": [
                "Writing text **to** the file using **\"w\"**\r\n",
                "If the file already exists then python will override the file with the stuff you now write to it."
            ],
            "metadata": {}
        },
        {
            "cell_type": "code",
            "execution_count": 21,
            "source": [
                "with open(\"Test_folder\\FileForEditing.txt\", \"w\") as myfile:\r\n",
                "    myfile.write(\"Edit 2: I'm not editng anything just writing to it\")\r\n",
                "    myfile.write(\"\\nIf you don't explicitly change the line while writing then python will just go on writng and\\nthis will happen\")\r\n",
                "    myfile.write(\"This I wrote by calling another write\")"
            ],
            "outputs": [],
            "metadata": {}
        },
        {
            "cell_type": "markdown",
            "source": [
                "Mode **\"x\"** will ensure that you don't write to an already existing file. It'll only write if the given file does not exist.\r\n",
                "\r\n",
                "**Appending** an existing file in python is done using **\"a\"** mode"
            ],
            "metadata": {}
        },
        {
            "cell_type": "code",
            "execution_count": 22,
            "source": [
                "with open(\"Test_folder\\FileForEditing.txt\", \"a\") as my:\r\n",
                "    my.write(\"\\nThis is edit 3 and the new line that you are reading is right now was appended to the already existing file in this edit\")"
            ],
            "outputs": [],
            "metadata": {}
        },
        {
            "cell_type": "markdown",
            "source": [
                "But we **cannot** read this file \r\n",
                "\r\n",
                "We need to go into **\"a+\"** mode for apending and reading mode but beware of the idiot cursor.\r\n",
                "\r\n",
                "We can use **File.seek(index)** to move the cursor to the prescribed index"
            ],
            "metadata": {}
        },
        {
            "cell_type": "code",
            "execution_count": 23,
            "source": [
                "with open(\"Test_folder\\FileForEditing.txt\", \"a+\") as myFile:\r\n",
                "    myFile.write(\"\\nEdit number 3 and now after the appending is done the cursor is here ->\")\r\n",
                "    print(\"We use the file.seek(index) method to move the cursor to index 0 so that we can read the whole file\\n\")\r\n",
                "    myFile.seek(0)\r\n",
                "    content = myFile.read()\r\n",
                "\r\n",
                "print(content)"
            ],
            "outputs": [
                {
                    "output_type": "stream",
                    "name": "stdout",
                    "text": [
                        "We use the file.seek(index) method to move the cursor to index 0 so that we can read the whole file\n",
                        "\n",
                        "Edit 2: I'm not editng anything just writing to it\n",
                        "If you don't explicitly change the line while writing then python will just go on writng and\n",
                        "this will happenThis I wrote by calling another write\n",
                        "This is edit 3 and the new line that you are reading is right now was appended to the already existing file in this edit\n",
                        "Edit number 3 and now after the appending is done the cursor is here ->\n"
                    ]
                }
            ],
            "metadata": {}
        },
        {
            "cell_type": "markdown",
            "source": [
                "See it worked!"
            ],
            "metadata": {}
        },
        {
            "cell_type": "code",
            "execution_count": 24,
            "source": [
                "with open(\"data.txt\", \"a+\") as file:\r\n",
                "    file.seek(0)\r\n",
                "    data = file.read()\r\n",
                "    print(data)\r\n",
                "    file.write((\"\\n\"+data) * 2)"
            ],
            "outputs": [
                {
                    "output_type": "stream",
                    "name": "stdout",
                    "text": [
                        "1.3, 1.5\n",
                        "2.3, 2.7\n",
                        "1.3, 1.5\n",
                        "2.3, 2.7\n",
                        "1.3, 1.5\n",
                        "2.3, 2.7\n"
                    ]
                }
            ],
            "metadata": {}
        },
        {
            "cell_type": "markdown",
            "source": [
                "**Modules**"
            ],
            "metadata": {}
        },
        {
            "cell_type": "markdown",
            "source": [
                "Fun fact: The built-in modules that are a part of libraries bundeled with python distributions are **written in C**.\r\n"
            ],
            "metadata": {}
        },
        {
            "cell_type": "code",
            "execution_count": 25,
            "source": [
                "import sys\r\n",
                "sys.builtin_module_names"
            ],
            "outputs": [
                {
                    "output_type": "execute_result",
                    "data": {
                        "text/plain": [
                            "('_abc',\n",
                            " '_ast',\n",
                            " '_bisect',\n",
                            " '_blake2',\n",
                            " '_codecs',\n",
                            " '_codecs_cn',\n",
                            " '_codecs_hk',\n",
                            " '_codecs_iso2022',\n",
                            " '_codecs_jp',\n",
                            " '_codecs_kr',\n",
                            " '_codecs_tw',\n",
                            " '_collections',\n",
                            " '_contextvars',\n",
                            " '_csv',\n",
                            " '_datetime',\n",
                            " '_functools',\n",
                            " '_heapq',\n",
                            " '_imp',\n",
                            " '_io',\n",
                            " '_json',\n",
                            " '_locale',\n",
                            " '_lsprof',\n",
                            " '_md5',\n",
                            " '_multibytecodec',\n",
                            " '_opcode',\n",
                            " '_operator',\n",
                            " '_pickle',\n",
                            " '_random',\n",
                            " '_sha1',\n",
                            " '_sha256',\n",
                            " '_sha3',\n",
                            " '_sha512',\n",
                            " '_signal',\n",
                            " '_sre',\n",
                            " '_stat',\n",
                            " '_statistics',\n",
                            " '_string',\n",
                            " '_struct',\n",
                            " '_symtable',\n",
                            " '_thread',\n",
                            " '_tracemalloc',\n",
                            " '_warnings',\n",
                            " '_weakref',\n",
                            " '_winapi',\n",
                            " '_xxsubinterpreters',\n",
                            " 'array',\n",
                            " 'atexit',\n",
                            " 'audioop',\n",
                            " 'binascii',\n",
                            " 'builtins',\n",
                            " 'cmath',\n",
                            " 'errno',\n",
                            " 'faulthandler',\n",
                            " 'gc',\n",
                            " 'itertools',\n",
                            " 'marshal',\n",
                            " 'math',\n",
                            " 'mmap',\n",
                            " 'msvcrt',\n",
                            " 'nt',\n",
                            " 'parser',\n",
                            " 'sys',\n",
                            " 'time',\n",
                            " 'winreg',\n",
                            " 'xxsubtype',\n",
                            " 'zlib')"
                        ]
                    },
                    "metadata": {},
                    "execution_count": 25
                }
            ],
            "metadata": {}
        },
        {
            "cell_type": "markdown",
            "source": [
                "The above cell of code will return a list of modules built-in python"
            ],
            "metadata": {}
        },
        {
            "cell_type": "code",
            "execution_count": 26,
            "source": [
                "import time\r\n",
                "dir(time)"
            ],
            "outputs": [
                {
                    "output_type": "execute_result",
                    "data": {
                        "text/plain": [
                            "['_STRUCT_TM_ITEMS',\n",
                            " '__doc__',\n",
                            " '__loader__',\n",
                            " '__name__',\n",
                            " '__package__',\n",
                            " '__spec__',\n",
                            " 'altzone',\n",
                            " 'asctime',\n",
                            " 'ctime',\n",
                            " 'daylight',\n",
                            " 'get_clock_info',\n",
                            " 'gmtime',\n",
                            " 'localtime',\n",
                            " 'mktime',\n",
                            " 'monotonic',\n",
                            " 'monotonic_ns',\n",
                            " 'perf_counter',\n",
                            " 'perf_counter_ns',\n",
                            " 'process_time',\n",
                            " 'process_time_ns',\n",
                            " 'sleep',\n",
                            " 'strftime',\n",
                            " 'strptime',\n",
                            " 'struct_time',\n",
                            " 'thread_time',\n",
                            " 'thread_time_ns',\n",
                            " 'time',\n",
                            " 'time_ns',\n",
                            " 'timezone',\n",
                            " 'tzname']"
                        ]
                    },
                    "metadata": {},
                    "execution_count": 26
                }
            ],
            "metadata": {}
        },
        {
            "cell_type": "markdown",
            "source": [
                "**dir(time)** returns the functions in the module **time**"
            ],
            "metadata": {}
        },
        {
            "cell_type": "code",
            "execution_count": 28,
            "source": [
                "help(time.sleep)"
            ],
            "outputs": [
                {
                    "output_type": "stream",
                    "name": "stdout",
                    "text": [
                        "Help on built-in function sleep in module time:\n",
                        "\n",
                        "sleep(...)\n",
                        "    sleep(seconds)\n",
                        "    \n",
                        "    Delay execution for a given number of seconds.  The argument may be\n",
                        "    a floating point number for subsecond precision.\n",
                        "\n"
                    ]
                }
            ],
            "metadata": {}
        },
        {
            "cell_type": "code",
            "execution_count": 31,
            "source": [
                "i = 6\r\n",
                "while i > 0:\r\n",
                "    print(i)\r\n",
                "    time.sleep(3)\r\n",
                "    i -= 1"
            ],
            "outputs": [
                {
                    "output_type": "stream",
                    "name": "stdout",
                    "text": [
                        "6\n",
                        "5\n",
                        "4\n",
                        "3\n",
                        "2\n",
                        "1\n"
                    ]
                }
            ],
            "metadata": {}
        },
        {
            "cell_type": "markdown",
            "source": [
                "So time.sleep(secs) sang a melody for the script and made it sleep for the prescribed amount of time each time it was called. => **time.sleep(secs)** freezes the script for the given amount of time."
            ],
            "metadata": {}
        },
        {
            "cell_type": "code",
            "execution_count": 35,
            "source": [
                "import os\r\n",
                "sys.prefix    #returns the location where the os module is residing as it ain't built in"
            ],
            "outputs": [
                {
                    "output_type": "execute_result",
                    "data": {
                        "text/plain": [
                            "'C:\\\\Users\\\\harsh\\\\anaconda3'"
                        ]
                    },
                    "metadata": {},
                    "execution_count": 35
                }
            ],
            "metadata": {}
        },
        {
            "cell_type": "markdown",
            "source": [
                "**os** is not a built-in module (it's written in python)"
            ],
            "metadata": {}
        },
        {
            "cell_type": "code",
            "execution_count": 34,
            "source": [
                "print(os.path.exists(\"Test_folder\\AnothertxtFile.txt\"))\r\n",
                "print(os.path.exists(\"SomeFile.txt\"))"
            ],
            "outputs": [
                {
                    "output_type": "stream",
                    "name": "stdout",
                    "text": [
                        "True\n",
                        "False\n"
                    ]
                }
            ],
            "metadata": {}
        },
        {
            "cell_type": "markdown",
            "source": [],
            "metadata": {}
        },
        {
            "cell_type": "code",
            "execution_count": 36,
            "source": [
                "import pandas as pd\r\n",
                "\r\n",
                "if os.path.exists(\"temps_today.csv\"):\r\n",
                "    data = pd.read_csv(\"temps_today.csv\")\r\n",
                "    print(data.mean())\r\n",
                "else:\r\n",
                "    print(\"I'm sorry but the file temps_today.csv does not exists\")"
            ],
            "outputs": [
                {
                    "output_type": "stream",
                    "name": "stdout",
                    "text": [
                        "st1    22.125\n",
                        "st2    20.550\n",
                        "dtype: float64\n"
                    ]
                }
            ],
            "metadata": {}
        },
        {
            "cell_type": "code",
            "execution_count": null,
            "source": [],
            "outputs": [],
            "metadata": {}
        }
    ],
    "metadata": {
        "orig_nbformat": 4,
        "language_info": {
            "name": "python",
            "version": "3.8.8",
            "mimetype": "text/x-python",
            "codemirror_mode": {
                "name": "ipython",
                "version": 3
            },
            "pygments_lexer": "ipython3",
            "nbconvert_exporter": "python",
            "file_extension": ".py"
        },
        "kernelspec": {
            "name": "python3",
            "display_name": "Python 3.8.8 64-bit ('base': conda)"
        },
        "interpreter": {
            "hash": "9da5a1eb768521143534bf09b996f0d525d45d2d4b488be6c4304e80c1815fea"
        }
    },
    "nbformat": 4,
    "nbformat_minor": 2
}